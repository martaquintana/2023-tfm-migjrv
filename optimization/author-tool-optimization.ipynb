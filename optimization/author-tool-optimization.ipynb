{
 "cells": [
  {
   "cell_type": "markdown",
   "metadata": {},
   "source": [
    "**Avatars IDs**\n",
    "\n",
    "- Mens US ASTM Sz M/40, MALE ID: \"b4ec391f-4a63-41ad-8efd-f3e45c75bb28\"\n",
    "\n",
    "- Womens US ASTM Sz M/6, FEMALE ID: \"ad80d4fd-cf03-4337-b42a-8df04ea07bcc\"\n",
    "\n",
    "# *Compute new positions of the garment*"
   ]
  },
  {
   "cell_type": "code",
   "execution_count": 285,
   "metadata": {},
   "outputs": [],
   "source": [
    "import json\n",
    "#IMPORT SCENE\n",
    "rute = 'store_state_transformed.json'\n",
    "\n",
    "with open(rute) as archivo:\n",
    "    data = json.load(archivo)\n",
    "\n",
    "# Avatar & Pieces geometry data\n",
    "avatar = data[\"avatar\"]\n",
    "pieces = data[\"pieces\"]\n",
    "#print(pieces)\n",
    "#print(\"Avatar\", avatar)\n",
    "all_pieces_indices = []\n",
    "all_pieces_positon3d = []\n",
    "for piece in data['pieces']:\n",
    "    indices = piece['components']['garmentPiece']['geometry']['indices']\n",
    "    posiciones = piece['components']['garmentPiece']['geometry']['position3D']\n",
    "    all_pieces_indices.extend(indices)\n",
    "    all_pieces_positon3d.extend(posiciones)\n",
    "\n",
    "#print(len(all_pieces_positon3d))\n",
    "#print(\"Pieces\", len(all_pieces_positon3d))"
   ]
  },
  {
   "cell_type": "code",
   "execution_count": 286,
   "metadata": {},
   "outputs": [
    {
     "name": "stdout",
     "output_type": "stream",
     "text": [
      "8332\n"
     ]
    }
   ],
   "source": [
    "import numpy as np\n",
    "\n",
    "#Convert to numpy arrays & matrix\n",
    "avatar_indices = np.array(avatar[\"indices\"])\n",
    "avatar_positions = np.array(avatar[\"positions\"]).reshape(-1, 3)  # Convertir a una matriz de 3 columnas\n",
    "\n",
    "pieces_indices = np.array(all_pieces_indices)\n",
    "pieces_positions = np.array(all_pieces_positon3d).reshape(-1, 3)  # Convertir a una matriz de 3 columnas\n",
    "\n",
    "print(len(pieces_positions))"
   ]
  },
  {
   "cell_type": "code",
   "execution_count": 287,
   "metadata": {},
   "outputs": [
    {
     "name": "stdout",
     "output_type": "stream",
     "text": [
      "La distancia mínimas entre el avatar y la geometría de las piezas de ropa [0.00770112 0.00987555 0.01133092 ... 0.06820608 0.01047858 0.03771483] [3723 3724 3769 ... 4854 4819 4267]\n"
     ]
    }
   ],
   "source": [
    "total_vertices_avatar = len(avatar_indices)\n",
    "total_vertices_piezas = len(pieces_indices)\n",
    "\n",
    "# Inicializar el arreglo de distancias minimas\n",
    "distancias_minimas = np.zeros(len(pieces_positions))\n",
    "ac = np.zeros(len(pieces_positions), dtype=int) #AvatarCorrespondeces\n",
    "    # Iterar sobre los vértices de la prenda de ropa\n",
    "for i, pos_prenda in enumerate(pieces_positions):\n",
    "    distancias_vertice = np.linalg.norm(pos_prenda - avatar_positions, axis=1)\n",
    "    \n",
    "    # Encontrar el índice del vértice del avatar más cercano y su distancia mínima\n",
    "    indice_vertice_cercano = np.argmin(distancias_vertice)\n",
    "    distancia_minima = distancias_vertice[indice_vertice_cercano]\n",
    "    \n",
    "    # Almacenar la distancia mínima y el índice del vértice correspondiente en el avatar\n",
    "    distancias_minimas[i] = distancia_minima\n",
    "    ac[i] = indice_vertice_cercano\n",
    "\n",
    "print(\"La distancia mínimas entre el avatar y la geometría de las piezas de ropa\", distancias_minimas,ac)"
   ]
  },
  {
   "cell_type": "code",
   "execution_count": 288,
   "metadata": {},
   "outputs": [
    {
     "name": "stdout",
     "output_type": "stream",
     "text": [
      "[[ 0.00357375  0.00614297  0.00296638]\n",
      " [ 0.00512941  0.00769913  0.00345528]\n",
      " [ 0.00682111 -0.0083921   0.00338156]\n",
      " ...\n",
      " [-0.00154465  0.05604529 -0.0388408 ]\n",
      " [-0.00395495 -0.00856912  0.00455293]\n",
      " [ 0.00277418  0.0341382  -0.01578909]]\n"
     ]
    }
   ],
   "source": [
    "# Crear un array para almacenar los offsets entre cada vértice de la prenda y el vértice correspondiente del avatar\n",
    "offsets = np.zeros_like(pieces_positions)\n",
    "\n",
    "for i, indice_avatar in enumerate(ac):\n",
    "    # Calcular el offset entre el vértice de la prenda y su vértice correspondiente en el avatar\n",
    "    offset = np.array(avatar_positions[indice_avatar]) - np.array(pieces_positions[i])\n",
    "    offsets[i]=offset\n",
    "\n",
    "print(offsets)\n",
    "\n"
   ]
  },
  {
   "cell_type": "markdown",
   "metadata": {},
   "source": [
    "New Avatar"
   ]
  },
  {
   "cell_type": "code",
   "execution_count": 289,
   "metadata": {},
   "outputs": [],
   "source": [
    "#IMPORT NEW AVATAR\n",
    "avatars = 'avatars.json'\n",
    "\n",
    "with open(avatars) as file:\n",
    "    avatars_data = json.load(file)\n",
    "new_avatar = avatars_data[\"male\"]\n",
    "\n",
    "new_avatar_positions= np.array(new_avatar[\"positions\"]).reshape(-1, 3)  # Convertir a una matriz de 3 columnas\n"
   ]
  },
  {
   "cell_type": "code",
   "execution_count": 290,
   "metadata": {},
   "outputs": [
    {
     "name": "stdout",
     "output_type": "stream",
     "text": [
      "8332\n"
     ]
    }
   ],
   "source": [
    "new_pieces_positions = np.zeros_like(pieces_positions)\n",
    "\n",
    "for i, indice_avatar in enumerate(ac):\n",
    "    # Calcular el offset entre el vértice de la prenda y su vértice correspondiente en el avatar\n",
    "    new_pieces_positions[i] = np.array(new_avatar_positions[indice_avatar]) + np.array(offsets[i])\n",
    "\n",
    "\n",
    "print(len(new_pieces_positions))\n"
   ]
  },
  {
   "cell_type": "code",
   "execution_count": 291,
   "metadata": {},
   "outputs": [
    {
     "name": "stdout",
     "output_type": "stream",
     "text": [
      "Datos exportados a 'output.json'\n"
     ]
    }
   ],
   "source": [
    "import json\n",
    "#IMPORT SCENE\n",
    "rute = 'store_state_transformed.json'\n",
    "\n",
    "with open(rute) as archivo:\n",
    "    data = json.load(archivo)\n",
    "\n",
    "\n",
    "pieces = data[\"pieces\"]\n",
    "new_list_posiciones = new_pieces_positions.reshape(-1).tolist()\n",
    "\n",
    "for piece in data['pieces']:\n",
    "    indices = piece['components']['garmentPiece']['geometry']['indices']\n",
    "    posiciones = piece['components']['garmentPiece']['geometry']['position3D']\n",
    "\n",
    "    # Determinar la longitud necesaria para la pieza actual\n",
    "    longitud_pieza = len(posiciones)\n",
    "\n",
    "    # Obtener las nuevas posiciones para la pieza actual\n",
    "    nuevas_posiciones = new_list_posiciones[:longitud_pieza]\n",
    "\n",
    "    # Reemplazar las posiciones originales por las nuevas posiciones\n",
    "    piece['components']['garmentPiece']['geometry']['position3D'] = nuevas_posiciones\n",
    "    \n",
    "    # Actualizar new_pieces_positions para la próxima pieza\n",
    "    new_list_posiciones = new_list_posiciones[longitud_pieza:]\n",
    "\n",
    "with open(\"output.json\", \"w\") as outfile: \n",
    "      json.dump(data, outfile)\n",
    "print(\"Datos exportados a 'output.json'\")"
   ]
  }
 ],
 "metadata": {
  "kernelspec": {
   "display_name": "Python 3",
   "language": "python",
   "name": "python3"
  },
  "language_info": {
   "codemirror_mode": {
    "name": "ipython",
    "version": 3
   },
   "file_extension": ".py",
   "mimetype": "text/x-python",
   "name": "python",
   "nbconvert_exporter": "python",
   "pygments_lexer": "ipython3",
   "version": "3.11.2"
  }
 },
 "nbformat": 4,
 "nbformat_minor": 2
}
