{
 "cells": [
  {
   "cell_type": "markdown",
   "metadata": {},
   "source": [
    "**Avatars IDs**\n",
    "\n",
    "- Mens US ASTM Sz M/40, MALE ID: \"b4ec391f-4a63-41ad-8efd-f3e45c75bb28\"\n",
    "\n",
    "- Womens US ASTM Sz M/6, FEMALE ID: \"ad80d4fd-cf03-4337-b42a-8df04ea07bcc\"\n",
    "\n",
    "# *Compute new positions of the garment*"
   ]
  },
  {
   "cell_type": "code",
   "execution_count": 293,
   "metadata": {},
   "outputs": [],
   "source": [
    "import json\n",
    "#IMPORT SCENE\n",
    "rute = 'store_state_transformed.json'\n",
    "\n",
    "with open(rute) as archivo:\n",
    "    data = json.load(archivo)\n",
    "\n",
    "# Avatar & Pieces geometry data\n",
    "avatar = data[\"avatar\"]\n",
    "pieces = data[\"pieces\"]\n",
    "#print(pieces)\n",
    "#print(\"Avatar\", avatar)\n",
    "all_pieces_indices = []\n",
    "all_pieces_positon3d = []\n",
    "for piece in data['pieces']:\n",
    "    indices = piece['components']['garmentPiece']['geometry']['indices']\n",
    "    posiciones = piece['components']['garmentPiece']['geometry']['position3D']\n",
    "    all_pieces_indices.extend(indices)\n",
    "    all_pieces_positon3d.extend(posiciones)\n",
    "\n",
    "#print(len(all_pieces_positon3d))\n",
    "#print(\"Pieces\", len(all_pieces_positon3d))"
   ]
  },
  {
   "cell_type": "code",
   "execution_count": 294,
   "metadata": {},
   "outputs": [],
   "source": [
    "import numpy as np\n",
    "\n",
    "#Convert to numpy arrays & matrix\n",
    "avatar_indices = np.array(avatar[\"indices\"])\n",
    "avatar_positions = np.array(avatar[\"positions\"]).reshape(-1, 3)  # Convertir a una matriz de 3 columnas\n",
    "\n",
    "pieces_indices = np.array(all_pieces_indices)\n",
    "pieces_positions = np.array(all_pieces_positon3d).reshape(-1, 3)  # Convertir a una matriz de 3 columnas\n",
    "\n",
    "#print(len(pieces_positions))"
   ]
  },
  {
   "cell_type": "code",
   "execution_count": 295,
   "metadata": {},
   "outputs": [],
   "source": [
    "total_vertices_avatar = len(avatar_indices)\n",
    "total_vertices_piezas = len(pieces_indices)\n",
    "\n",
    "# Compute distancias minimas prenda-avatar\n",
    "distancias_minimas = np.zeros(len(pieces_positions))\n",
    "ac = np.zeros(len(pieces_positions), dtype=int) # AvatarCorrespondeces\n",
    "\n",
    "# For all vertex in the garment\n",
    "for i, pos_prenda in enumerate(pieces_positions):\n",
    "    distancias_vertice = np.linalg.norm(pos_prenda - avatar_positions, axis=1)\n",
    "    \n",
    "    # Find nearest avatar index and compute min distance\n",
    "    indice_vertice_cercano = np.argmin(distancias_vertice)\n",
    "    distancia_minima = distancias_vertice[indice_vertice_cercano]\n",
    "    \n",
    "    # Save min distances and avatar index correspondences\n",
    "    distancias_minimas[i] = distancia_minima\n",
    "    ac[i] = indice_vertice_cercano\n",
    "\n",
    "#print(\"La distancia mínimas entre el avatar y la geometría de las piezas de ropa\", distancias_minimas,ac)"
   ]
  },
  {
   "cell_type": "code",
   "execution_count": 296,
   "metadata": {},
   "outputs": [],
   "source": [
    "# Offset between garment vertex and its nearest avatar vertex\n",
    "offsets = np.zeros_like(pieces_positions)\n",
    "\n",
    "for i, indice_avatar in enumerate(ac):\n",
    "    offset = np.array(avatar_positions[indice_avatar]) - np.array(pieces_positions[i])\n",
    "    offsets[i]=offset\n",
    "\n",
    "#print(offsets)\n",
    "\n"
   ]
  },
  {
   "cell_type": "markdown",
   "metadata": {},
   "source": [
    "New Avatar"
   ]
  },
  {
   "cell_type": "code",
   "execution_count": 297,
   "metadata": {},
   "outputs": [],
   "source": [
    "#IMPORT NEW AVATAR\n",
    "avatars = 'avatars.json'\n",
    "\n",
    "with open(avatars) as file:\n",
    "    avatars_data = json.load(file)\n",
    "new_avatar = avatars_data[\"male\"]\n",
    "\n",
    "new_avatar_positions= np.array(new_avatar[\"positions\"]).reshape(-1, 3)  # Convertir a una matriz de 3 columnas\n"
   ]
  },
  {
   "cell_type": "code",
   "execution_count": 298,
   "metadata": {},
   "outputs": [],
   "source": [
    "#Compute new pieces positions with the offset computed and its nearest avatar index from the new avatar (Avatars in seddi have the same mesh)\n",
    "new_pieces_positions = np.zeros_like(pieces_positions)\n",
    "\n",
    "for i, indice_avatar in enumerate(ac):\n",
    "    new_pieces_positions[i] = np.array(new_avatar_positions[indice_avatar]) + np.array(offsets[i])\n",
    "\n",
    "\n",
    "#print(len(new_pieces_positions))\n"
   ]
  },
  {
   "cell_type": "code",
   "execution_count": 299,
   "metadata": {},
   "outputs": [
    {
     "name": "stdout",
     "output_type": "stream",
     "text": [
      "Datos exportados a 'output.json'\n"
     ]
    }
   ],
   "source": [
    "#Export SCENE TO JSON for AUTHOR\n",
    "\n",
    "import json\n",
    "#IMPORT SCENE\n",
    "rute = 'store_state_transformed.json'\n",
    "\n",
    "with open(rute) as archivo:\n",
    "    data = json.load(archivo)\n",
    "\n",
    "\n",
    "pieces = data[\"pieces\"]\n",
    "new_list_posiciones = new_pieces_positions.reshape(-1).tolist()\n",
    "\n",
    "for piece in data['pieces']:\n",
    "    indices = piece['components']['garmentPiece']['geometry']['indices']\n",
    "    posiciones = piece['components']['garmentPiece']['geometry']['position3D']\n",
    "\n",
    "    # Determinar la longitud necesaria para la pieza actual\n",
    "    longitud_pieza = len(posiciones)\n",
    "\n",
    "    # Obtener las nuevas posiciones para la pieza actual\n",
    "    nuevas_posiciones = new_list_posiciones[:longitud_pieza]\n",
    "\n",
    "    # Reemplazar las posiciones originales por las nuevas posiciones\n",
    "    piece['components']['garmentPiece']['geometry']['position3D'] = nuevas_posiciones\n",
    "    \n",
    "    # Actualizar new_pieces_positions para la próxima pieza\n",
    "    new_list_posiciones = new_list_posiciones[longitud_pieza:]\n",
    "\n",
    "with open(\"output.json\", \"w\") as outfile: \n",
    "      json.dump(data, outfile)\n",
    "print(\"Datos exportados a 'output.json'\")"
   ]
  }
 ],
 "metadata": {
  "kernelspec": {
   "display_name": "Python 3",
   "language": "python",
   "name": "python3"
  },
  "language_info": {
   "codemirror_mode": {
    "name": "ipython",
    "version": 3
   },
   "file_extension": ".py",
   "mimetype": "text/x-python",
   "name": "python",
   "nbconvert_exporter": "python",
   "pygments_lexer": "ipython3",
   "version": "3.11.2"
  }
 },
 "nbformat": 4,
 "nbformat_minor": 2
}
