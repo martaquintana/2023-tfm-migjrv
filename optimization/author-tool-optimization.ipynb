{
 "cells": [
  {
   "cell_type": "code",
   "execution_count": 27,
   "metadata": {},
   "outputs": [],
   "source": [
    "import json\n",
    "#IMPORT SCENE\n",
    "rute = 'store_state_transformed.json'\n",
    "\n",
    "with open(rute) as archivo:\n",
    "    data = json.load(archivo)\n",
    "\n",
    "# Avatar & Pieces geometry data\n",
    "avatar = data[\"avatar\"]\n",
    "pieces = data[\"pieces\"]\n",
    "#print(\"Avatar\", avatar)\n",
    "all_pieces_indices = []\n",
    "all_pieces_positon3d = []\n",
    "for piece in data['pieces']:\n",
    "    indices = piece['components']['garmentPiece']['geometry']['indices']\n",
    "    posiciones = piece['components']['garmentPiece']['geometry']['position3D']\n",
    "    all_pieces_indices.extend(indices)\n",
    "    all_pieces_positon3d.extend(posiciones)\n",
    "#print(\"Pieces\", pieces_indices)"
   ]
  },
  {
   "cell_type": "code",
   "execution_count": 29,
   "metadata": {},
   "outputs": [],
   "source": [
    "import numpy as np\n",
    "\n",
    "avatar_indices = np.array(avatar[\"indices\"])\n",
    "avatar_positions = np.array(avatar[\"positions\"]).reshape(-1, 3)  # Convertir a una matriz de 3 columnas\n",
    "\n",
    "\n",
    "pieces_indices = np.array(all_pieces_indices)\n",
    "pieces_positions = np.array(all_pieces_positon3d).reshape(-1, 3)  # Convertir a una matriz de 3 columnas"
   ]
  },
  {
   "cell_type": "code",
   "execution_count": 36,
   "metadata": {},
   "outputs": [
    {
     "name": "stdout",
     "output_type": "stream",
     "text": [
      "La distancia mínimas entre el avatar y la geometría de las piezas de ropa [0.17325956 0.16747904 0.18451541 ... 0.00435355 0.00446228 0.00682725]\n"
     ]
    }
   ],
   "source": [
    "total_vertices_avatar = len(avatar_indices)\n",
    "total_vertices_piezas = len(pieces_indices)\n",
    "\n",
    "# Inicializar el arreglo de distancias minimas\n",
    "distancias_minimas = np.zeros(total_vertices_avatar)\n",
    "\n",
    "# Calcular la distancia mínima entre cada vértice del avatar y cada vértice de las piezas de ropa\n",
    "for i, indice_avatar in enumerate(avatar_indices):\n",
    "    punto_avatar = avatar_positions[indice_avatar]\n",
    "    distancias_vertice = np.linalg.norm(punto_avatar - pieces_positions, axis=1)\n",
    "    distancias_minimas[i] = np.min(distancias_vertice)\n",
    "\n",
    "print(\"La distancia mínimas entre el avatar y la geometría de las piezas de ropa\", distancias_minimas)"
   ]
  }
 ],
 "metadata": {
  "kernelspec": {
   "display_name": "Python 3",
   "language": "python",
   "name": "python3"
  },
  "language_info": {
   "codemirror_mode": {
    "name": "ipython",
    "version": 3
   },
   "file_extension": ".py",
   "mimetype": "text/x-python",
   "name": "python",
   "nbconvert_exporter": "python",
   "pygments_lexer": "ipython3",
   "version": "3.11.2"
  }
 },
 "nbformat": 4,
 "nbformat_minor": 2
}
